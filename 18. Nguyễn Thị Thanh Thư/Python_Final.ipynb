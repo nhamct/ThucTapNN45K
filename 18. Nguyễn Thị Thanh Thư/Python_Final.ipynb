{
 "cells": [
  {
   "cell_type": "code",
   "execution_count": 1,
   "metadata": {},
   "outputs": [],
   "source": [
    "# Thêm thư viện trong notebook\n",
    "import pandas as pd\n",
    "import numpy as np"
   ]
  },
  {
   "cell_type": "code",
   "execution_count": null,
   "metadata": {},
   "outputs": [],
   "source": [
    "# Đưa dữ liệu vào Python và đọc\n",
    "df1 = pd.read_excel (\"Final_Project_Dataset.xlsx\")\n",
    "df1"
   ]
  },
  {
   "cell_type": "code",
   "execution_count": 3,
   "metadata": {},
   "outputs": [],
   "source": [
    "df2 = pd.read_excel(\"SalebyCustomer.xlsx\")\n",
    "df2"
   ]
  },
  {
   "cell_type": "code",
   "execution_count": 4,
   "metadata": {},
   "outputs": [
    {
     "data": {
      "text/html": [
       "<div>\n",
       "<style scoped>\n",
       "    .dataframe tbody tr th:only-of-type {\n",
       "        vertical-align: middle;\n",
       "    }\n",
       "\n",
       "    .dataframe tbody tr th {\n",
       "        vertical-align: top;\n",
       "    }\n",
       "\n",
       "    .dataframe thead th {\n",
       "        text-align: right;\n",
       "    }\n",
       "</style>\n",
       "<table border=\"1\" class=\"dataframe\">\n",
       "  <thead>\n",
       "    <tr style=\"text-align: right;\">\n",
       "      <th></th>\n",
       "      <th>AnnualSalary</th>\n",
       "    </tr>\n",
       "  </thead>\n",
       "  <tbody>\n",
       "    <tr>\n",
       "      <th>count</th>\n",
       "      <td>928.000000</td>\n",
       "    </tr>\n",
       "    <tr>\n",
       "      <th>mean</th>\n",
       "      <td>77507.933190</td>\n",
       "    </tr>\n",
       "    <tr>\n",
       "      <th>std</th>\n",
       "      <td>42817.713864</td>\n",
       "    </tr>\n",
       "    <tr>\n",
       "      <th>min</th>\n",
       "      <td>0.000000</td>\n",
       "    </tr>\n",
       "    <tr>\n",
       "      <th>25%</th>\n",
       "      <td>50000.000000</td>\n",
       "    </tr>\n",
       "    <tr>\n",
       "      <th>50%</th>\n",
       "      <td>67000.000000</td>\n",
       "    </tr>\n",
       "    <tr>\n",
       "      <th>75%</th>\n",
       "      <td>97000.000000</td>\n",
       "    </tr>\n",
       "    <tr>\n",
       "      <th>max</th>\n",
       "      <td>450000.000000</td>\n",
       "    </tr>\n",
       "  </tbody>\n",
       "</table>\n",
       "</div>"
      ],
      "text/plain": [
       "        AnnualSalary\n",
       "count     928.000000\n",
       "mean    77507.933190\n",
       "std     42817.713864\n",
       "min         0.000000\n",
       "25%     50000.000000\n",
       "50%     67000.000000\n",
       "75%     97000.000000\n",
       "max    450000.000000"
      ]
     },
     "execution_count": 4,
     "metadata": {},
     "output_type": "execute_result"
    }
   ],
   "source": [
    "# Thống kê các độ đo dữ liệu hai bảng\n",
    "df1.describe()"
   ]
  },
  {
   "cell_type": "code",
   "execution_count": 18,
   "metadata": {},
   "outputs": [
    {
     "data": {
      "text/html": [
       "<div>\n",
       "<style scoped>\n",
       "    .dataframe tbody tr th:only-of-type {\n",
       "        vertical-align: middle;\n",
       "    }\n",
       "\n",
       "    .dataframe tbody tr th {\n",
       "        vertical-align: top;\n",
       "    }\n",
       "\n",
       "    .dataframe thead th {\n",
       "        text-align: right;\n",
       "    }\n",
       "</style>\n",
       "<table border=\"1\" class=\"dataframe\">\n",
       "  <thead>\n",
       "    <tr style=\"text-align: right;\">\n",
       "      <th></th>\n",
       "      <th>OrderDate</th>\n",
       "      <th>ShipDate</th>\n",
       "      <th>PostalCode</th>\n",
       "      <th>Sales</th>\n",
       "      <th>Quantity</th>\n",
       "      <th>Discount</th>\n",
       "      <th>Profit</th>\n",
       "    </tr>\n",
       "  </thead>\n",
       "  <tbody>\n",
       "    <tr>\n",
       "      <th>count</th>\n",
       "      <td>9993.000000</td>\n",
       "      <td>9993.000000</td>\n",
       "      <td>9993.000000</td>\n",
       "      <td>9993.000000</td>\n",
       "      <td>9993.000000</td>\n",
       "      <td>9993.000000</td>\n",
       "      <td>9993.000000</td>\n",
       "    </tr>\n",
       "    <tr>\n",
       "      <th>mean</th>\n",
       "      <td>44417.832983</td>\n",
       "      <td>42493.969278</td>\n",
       "      <td>55191.593816</td>\n",
       "      <td>229.869885</td>\n",
       "      <td>3.789252</td>\n",
       "      <td>0.156198</td>\n",
       "      <td>59.907061</td>\n",
       "    </tr>\n",
       "    <tr>\n",
       "      <th>std</th>\n",
       "      <td>100.224782</td>\n",
       "      <td>420.475807</td>\n",
       "      <td>32065.067934</td>\n",
       "      <td>623.275155</td>\n",
       "      <td>2.224989</td>\n",
       "      <td>0.206462</td>\n",
       "      <td>228.288086</td>\n",
       "    </tr>\n",
       "    <tr>\n",
       "      <th>min</th>\n",
       "      <td>44197.000000</td>\n",
       "      <td>41646.000000</td>\n",
       "      <td>1040.000000</td>\n",
       "      <td>0.444000</td>\n",
       "      <td>1.000000</td>\n",
       "      <td>0.000000</td>\n",
       "      <td>0.000000</td>\n",
       "    </tr>\n",
       "    <tr>\n",
       "      <th>25%</th>\n",
       "      <td>44337.000000</td>\n",
       "      <td>42151.000000</td>\n",
       "      <td>23223.000000</td>\n",
       "      <td>17.280000</td>\n",
       "      <td>2.000000</td>\n",
       "      <td>0.000000</td>\n",
       "      <td>5.369000</td>\n",
       "    </tr>\n",
       "    <tr>\n",
       "      <th>50%</th>\n",
       "      <td>44441.000000</td>\n",
       "      <td>42550.000000</td>\n",
       "      <td>56560.000000</td>\n",
       "      <td>54.480000</td>\n",
       "      <td>3.000000</td>\n",
       "      <td>0.200000</td>\n",
       "      <td>13.967200</td>\n",
       "    </tr>\n",
       "    <tr>\n",
       "      <th>75%</th>\n",
       "      <td>44508.000000</td>\n",
       "      <td>42873.000000</td>\n",
       "      <td>90008.000000</td>\n",
       "      <td>209.940000</td>\n",
       "      <td>5.000000</td>\n",
       "      <td>0.200000</td>\n",
       "      <td>43.164000</td>\n",
       "    </tr>\n",
       "    <tr>\n",
       "      <th>max</th>\n",
       "      <td>44561.000000</td>\n",
       "      <td>43105.000000</td>\n",
       "      <td>99301.000000</td>\n",
       "      <td>22638.480000</td>\n",
       "      <td>14.000000</td>\n",
       "      <td>0.800000</td>\n",
       "      <td>8399.976000</td>\n",
       "    </tr>\n",
       "  </tbody>\n",
       "</table>\n",
       "</div>"
      ],
      "text/plain": [
       "          OrderDate      ShipDate    PostalCode         Sales     Quantity  \\\n",
       "count   9993.000000   9993.000000   9993.000000   9993.000000  9993.000000   \n",
       "mean   44417.832983  42493.969278  55191.593816    229.869885     3.789252   \n",
       "std      100.224782    420.475807  32065.067934    623.275155     2.224989   \n",
       "min    44197.000000  41646.000000   1040.000000      0.444000     1.000000   \n",
       "25%    44337.000000  42151.000000  23223.000000     17.280000     2.000000   \n",
       "50%    44441.000000  42550.000000  56560.000000     54.480000     3.000000   \n",
       "75%    44508.000000  42873.000000  90008.000000    209.940000     5.000000   \n",
       "max    44561.000000  43105.000000  99301.000000  22638.480000    14.000000   \n",
       "\n",
       "          Discount       Profit  \n",
       "count  9993.000000  9993.000000  \n",
       "mean      0.156198    59.907061  \n",
       "std       0.206462   228.288086  \n",
       "min       0.000000     0.000000  \n",
       "25%       0.000000     5.369000  \n",
       "50%       0.200000    13.967200  \n",
       "75%       0.200000    43.164000  \n",
       "max       0.800000  8399.976000  "
      ]
     },
     "execution_count": 18,
     "metadata": {},
     "output_type": "execute_result"
    }
   ],
   "source": [
    "df2.describe()"
   ]
  },
  {
   "cell_type": "code",
   "execution_count": 5,
   "metadata": {},
   "outputs": [
    {
     "data": {
      "text/plain": [
       "CustomerName      0\n",
       "Age               0\n",
       "NameOfIndustry    0\n",
       "JobTitle          0\n",
       "AnnualSalary      0\n",
       "WorkExperience    0\n",
       "Gender            0\n",
       "dtype: int64"
      ]
     },
     "execution_count": 5,
     "metadata": {},
     "output_type": "execute_result"
    }
   ],
   "source": [
    "#Kiểm tra tính toàn vẹn của dữ liệu\n",
    "df1.isnull().sum()"
   ]
  },
  {
   "cell_type": "code",
   "execution_count": 6,
   "metadata": {},
   "outputs": [
    {
     "data": {
      "text/plain": [
       "RowID           0\n",
       "OrderID         0\n",
       "OrderDate       0\n",
       "ShipDate        0\n",
       "ShipMode        0\n",
       "CustomerID      0\n",
       "CustomerName    0\n",
       "Segment         0\n",
       "Country         0\n",
       "City            0\n",
       "State           0\n",
       "PostalCode      0\n",
       "Region          0\n",
       "ProductID       0\n",
       "Category        0\n",
       "Sub-Category    0\n",
       "ProductName     0\n",
       "Sales           0\n",
       "Quantity        0\n",
       "Discount        0\n",
       "Profit          0\n",
       "dtype: int64"
      ]
     },
     "execution_count": 6,
     "metadata": {},
     "output_type": "execute_result"
    }
   ],
   "source": [
    "df2.isnull().sum()"
   ]
  },
  {
   "cell_type": "code",
   "execution_count": 7,
   "metadata": {},
   "outputs": [],
   "source": [
    "# Xoá cột không cần thiết\n",
    "del df1 ['NameOfIndustry']\n",
    "del df1 ['JobTitle']"
   ]
  },
  {
   "cell_type": "code",
   "execution_count": 8,
   "metadata": {},
   "outputs": [],
   "source": [
    "del df2 ['RowID']\n",
    "del df2 ['OrderID']\n",
    "del df2 ['CustomerID']\n",
    "del df2 ['ProductID']"
   ]
  },
  {
   "cell_type": "code",
   "execution_count": 12,
   "metadata": {},
   "outputs": [],
   "source": [
    "# Xuất file csv sau khi xử lý\n",
    "df1.to_csv('Dataset1.csv')"
   ]
  },
  {
   "cell_type": "code",
   "execution_count": 13,
   "metadata": {},
   "outputs": [],
   "source": [
    "df2.to_csv('Dataset2.csv')"
   ]
  }
 ],
 "metadata": {
  "kernelspec": {
   "display_name": "Python 3.10.4 64-bit",
   "language": "python",
   "name": "python3"
  },
  "language_info": {
   "codemirror_mode": {
    "name": "ipython",
    "version": 3
   },
   "file_extension": ".py",
   "mimetype": "text/x-python",
   "name": "python",
   "nbconvert_exporter": "python",
   "pygments_lexer": "ipython3",
   "version": "3.10.4"
  },
  "orig_nbformat": 4,
  "vscode": {
   "interpreter": {
    "hash": "aee8b7b246df8f9039afb4144a1f6fd8d2ca17a180786b69acc140d282b71a49"
   }
  }
 },
 "nbformat": 4,
 "nbformat_minor": 2
}
